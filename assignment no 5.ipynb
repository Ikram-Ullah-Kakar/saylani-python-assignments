{
 "cells": [
  {
   "cell_type": "markdown",
   "metadata": {},
   "source": [
    "# Assignment No 5"
   ]
  },
  {
   "cell_type": "markdown",
   "metadata": {},
   "source": [
    "# Q1"
   ]
  },
  {
   "cell_type": "code",
   "execution_count": null,
   "metadata": {},
   "outputs": [],
   "source": [
    "number = input(\"Enter a number: \")\n",
    "factorial = 1\n",
    "if int(number) >= 1:\n",
    "    for i in range (1,int(number)+1):\n",
    "        factorial = factorial * i\n",
    "print(\"Factorial of \",number , \" is : \",factorial)"
   ]
  },
  {
   "cell_type": "markdown",
   "metadata": {},
   "source": [
    "# Q2"
   ]
  },
  {
   "cell_type": "code",
   "execution_count": 9,
   "metadata": {},
   "outputs": [],
   "source": [
    "def check(a):\n",
    "    count_lower=0\n",
    "    count_upper=0\n",
    "    for x in a:\n",
    "        if x.islower():\n",
    "            count_lower=count_lower+1\n",
    "        elif x.isupper():\n",
    "            count_upper=count_upper+1\n",
    "        \n",
    "    return count_lower,count_upper"
   ]
  },
  {
   "cell_type": "markdown",
   "metadata": {},
   "source": [
    "# Q3"
   ]
  },
  {
   "cell_type": "code",
   "execution_count": 10,
   "metadata": {},
   "outputs": [
    {
     "name": "stdout",
     "output_type": "stream",
     "text": [
      "input a string  Hi Ikram KAKAR\n",
      "lower letters=5          Upper letters=7\n"
     ]
    }
   ],
   "source": [
    "a=input(\"input a string  \")\n",
    "lower,upper=check(a)\n",
    "print('lower letters={}          Upper letters={}'.format(lower,upper))"
   ]
  },
  {
   "cell_type": "markdown",
   "metadata": {},
   "source": [
    "# Q4"
   ]
  },
  {
   "cell_type": "code",
   "execution_count": 12,
   "metadata": {},
   "outputs": [
    {
     "name": "stdout",
     "output_type": "stream",
     "text": [
      "[2, 4, 6, 8]\n"
     ]
    }
   ],
   "source": [
    "def check_even(lst):\n",
    "    return [x for x in lst if x%2==0]\n",
    "\n",
    "\n",
    "lst=[2,3,4,6,7,8,9,1]\n",
    "print(check_even(lst))"
   ]
  },
  {
   "cell_type": "markdown",
   "metadata": {},
   "source": [
    "# Q4"
   ]
  },
  {
   "cell_type": "code",
   "execution_count": 17,
   "metadata": {},
   "outputs": [
    {
     "name": "stdout",
     "output_type": "stream",
     "text": [
      "enter string to check for pelindrome  madam\n",
      "madam  is pelindrome\n",
      "None\n"
     ]
    }
   ],
   "source": [
    "def is_pelindrome(x):\n",
    "    print(print(x,' is pelindrome') if x==x[::-1] else print(x,' is not pelindrome'))\n",
    "    \n",
    "\n",
    "a=input('enter string to check for pelindrome  ')\n",
    "is_pelindrome(a)\n",
    "\n"
   ]
  },
  {
   "cell_type": "markdown",
   "metadata": {},
   "source": [
    "# Q5"
   ]
  },
  {
   "cell_type": "code",
   "execution_count": 21,
   "metadata": {},
   "outputs": [
    {
     "name": "stdout",
     "output_type": "stream",
     "text": [
      "Enter a number: 7\n",
      "7 is a prime number\n"
     ]
    }
   ],
   "source": [
    "num = int(input(\"Enter a number: \"))\n",
    "if num > 1: \n",
    "    for i in range(2,num):  \n",
    "        if (num % i) == 0:  \n",
    "            print(num,\"is not a prime number\")   \n",
    "            break  \n",
    "    else:  \n",
    "        print(num,\"is a prime number\")  \n",
    "         \n",
    "else:  \n",
    "    print(num,\"is not a prime number\")  "
   ]
  },
  {
   "cell_type": "markdown",
   "metadata": {},
   "source": [
    "# Q6"
   ]
  },
  {
   "cell_type": "code",
   "execution_count": 29,
   "metadata": {},
   "outputs": [
    {
     "name": "stdout",
     "output_type": "stream",
     "text": [
      "purchased items are:\n",
      "mango\n",
      "cloths\n",
      "sweats\n",
      "friends\n"
     ]
    }
   ],
   "source": [
    "def shopping(*items):\n",
    "    for x in items:\n",
    "        print(x)\n",
    "    \n",
    "print('purchased items are:')\n",
    "shopping('mango','cloths','sweats','friends')"
   ]
  },
  {
   "cell_type": "code",
   "execution_count": null,
   "metadata": {},
   "outputs": [],
   "source": []
  }
 ],
 "metadata": {
  "kernelspec": {
   "display_name": "Python 3",
   "language": "python",
   "name": "python3"
  },
  "language_info": {
   "codemirror_mode": {
    "name": "ipython",
    "version": 3
   },
   "file_extension": ".py",
   "mimetype": "text/x-python",
   "name": "python",
   "nbconvert_exporter": "python",
   "pygments_lexer": "ipython3",
   "version": "3.7.2"
  }
 },
 "nbformat": 4,
 "nbformat_minor": 2
}
