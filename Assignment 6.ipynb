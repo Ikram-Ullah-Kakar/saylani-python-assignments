{
 "cells": [
  {
   "cell_type": "markdown",
   "metadata": {},
   "source": [
    "# Q1"
   ]
  },
  {
   "cell_type": "markdown",
   "metadata": {},
   "source": [
    "Object-oriented programming (OOP) is a way of referring to computer programming (software design) that defines the data type of programmer data structure, and type of operation (function) that can be applied to the data structure."
   ]
  },
  {
   "cell_type": "markdown",
   "metadata": {},
   "source": [
    "# Q2"
   ]
  },
  {
   "cell_type": "markdown",
   "metadata": {},
   "source": [
    "1) Modularity for easy troubleshooting.\n",
    "2) Code reuse through inheritance.\n",
    "3) Flexibility through polymorphism.\n",
    "4) Effective problem solving."
   ]
  },
  {
   "cell_type": "markdown",
   "metadata": {},
   "source": [
    "# Q3"
   ]
  },
  {
   "cell_type": "markdown",
   "metadata": {},
   "source": [
    "# function"
   ]
  },
  {
   "cell_type": "markdown",
   "metadata": {},
   "source": [
    "A function is a piece of code called by name. To work on it (ie parameters) the data can be passed and optionally return the data (return value). All data passed to a function is passed explicitly. "
   ]
  },
  {
   "cell_type": "markdown",
   "metadata": {},
   "source": [
    "# Method"
   ]
  },
  {
   "cell_type": "markdown",
   "metadata": {},
   "source": [
    "A method is a piece of code called by a name that is associated with an object."
   ]
  },
  {
   "cell_type": "markdown",
   "metadata": {},
   "source": [
    "# Q4"
   ]
  },
  {
   "cell_type": "markdown",
   "metadata": {},
   "source": [
    "# Class"
   ]
  },
  {
   "cell_type": "markdown",
   "metadata": {},
   "source": [
    "A class is a code template to create an object. Objects contain member variables and have related behavior to them."
   ]
  },
  {
   "cell_type": "markdown",
   "metadata": {},
   "source": [
    "# Object"
   ]
  },
  {
   "cell_type": "markdown",
   "metadata": {},
   "source": [
    "An object is simply a collection of data (variables) and methods (functions) that act on those data."
   ]
  },
  {
   "cell_type": "markdown",
   "metadata": {},
   "source": [
    "# Attribute"
   ]
  },
  {
   "cell_type": "markdown",
   "metadata": {},
   "source": [
    "An attribute is a specification that defines the property of an object."
   ]
  },
  {
   "cell_type": "markdown",
   "metadata": {},
   "source": [
    "# Behavior"
   ]
  },
  {
   "cell_type": "markdown",
   "metadata": {},
   "source": [
    "Behavior is the way object of a class act toowards a certain event."
   ]
  },
  {
   "cell_type": "markdown",
   "metadata": {},
   "source": [
    "# Q5"
   ]
  },
  {
   "cell_type": "code",
   "execution_count": 16,
   "metadata": {},
   "outputs": [],
   "source": [
    "class car:\n",
    "    def __init__(self,name,model,make,engine):\n",
    "        self.name=name\n",
    "        self.model=model\n",
    "        self.make=make\n",
    "        self.engine=engine\n",
    "    def display_name(self):\n",
    "        print(\"car = \"+self.name)\n",
    "    def display_company(self):\n",
    "        print(\"company = \"+self.make)\n",
    "    def display_details(self):\n",
    "        print(\"Model = \",self.model)\n",
    "        print(\"Engine = \",self.engine)"
   ]
  },
  {
   "cell_type": "code",
   "execution_count": 17,
   "metadata": {},
   "outputs": [],
   "source": [
    "a=car(\"kako\",2020,'toyota',122378487)\n",
    "b=car(\"mam\",2020,'sundas',12134587)\n",
    "c=car(\"mim\",2020,'toyota',4342378487)\n",
    "d=car(\"kakar\",2020,'suzuki',876487)\n",
    "e=car(\"kak\",2020,'honda',9097868487)"
   ]
  },
  {
   "cell_type": "code",
   "execution_count": 18,
   "metadata": {},
   "outputs": [
    {
     "name": "stdout",
     "output_type": "stream",
     "text": [
      "car = kako\n",
      "company = toyota\n",
      "Model =  2020\n",
      "Engine =  122378487\n"
     ]
    }
   ],
   "source": [
    "a.display_name()\n",
    "a.display_company()\n",
    "a.display_details()"
   ]
  },
  {
   "cell_type": "code",
   "execution_count": null,
   "metadata": {},
   "outputs": [],
   "source": []
  }
 ],
 "metadata": {
  "kernelspec": {
   "display_name": "Python 3",
   "language": "python",
   "name": "python3"
  },
  "language_info": {
   "codemirror_mode": {
    "name": "ipython",
    "version": 3
   },
   "file_extension": ".py",
   "mimetype": "text/x-python",
   "name": "python",
   "nbconvert_exporter": "python",
   "pygments_lexer": "ipython3",
   "version": "3.6.8"
  }
 },
 "nbformat": 4,
 "nbformat_minor": 2
}
