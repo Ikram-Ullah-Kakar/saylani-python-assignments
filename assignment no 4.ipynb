{
 "cells": [
  {
   "cell_type": "markdown",
   "metadata": {},
   "source": [
    "# Assignment No 4"
   ]
  },
  {
   "cell_type": "markdown",
   "metadata": {},
   "source": [
    "# Q1"
   ]
  },
  {
   "cell_type": "code",
   "execution_count": 1,
   "metadata": {},
   "outputs": [],
   "source": [
    "student={'first_name':'ikram',\n",
    "        'last_name':'kakar',\n",
    "        'age':20,\n",
    "        'city':'karachi'}"
   ]
  },
  {
   "cell_type": "code",
   "execution_count": 6,
   "metadata": {},
   "outputs": [
    {
     "name": "stdout",
     "output_type": "stream",
     "text": [
      "ikram\n",
      "kakar\n",
      "20\n",
      "karachi\n"
     ]
    }
   ],
   "source": [
    "print(student['first_name'])\n",
    "print(student['last_name'])\n",
    "print(student['age'])\n",
    "print(student['city'])"
   ]
  },
  {
   "cell_type": "code",
   "execution_count": 7,
   "metadata": {},
   "outputs": [],
   "source": [
    "student['qualification']='intermediate'"
   ]
  },
  {
   "cell_type": "code",
   "execution_count": 13,
   "metadata": {},
   "outputs": [],
   "source": [
    "student.update({'qualification':'masters'})"
   ]
  },
  {
   "cell_type": "code",
   "execution_count": 12,
   "metadata": {},
   "outputs": [],
   "source": [
    "del student['qualification']"
   ]
  },
  {
   "cell_type": "markdown",
   "metadata": {},
   "source": [
    "# Q2"
   ]
  },
  {
   "cell_type": "code",
   "execution_count": 17,
   "metadata": {},
   "outputs": [],
   "source": [
    "cities={'karachi':{'country':'pakistan',\n",
    "               'population':'20 million',\n",
    "               'fact':'city of lights'},\n",
    "       'Quetta':{'country':'pakistan',\n",
    "               'population':'50 lacs',\n",
    "               'fact':'small london'},\n",
    "       'Islamabad':{'country':'pakistan',\n",
    "               'population':'20 lacs',\n",
    "               'fact':'charm'}}"
   ]
  },
  {
   "cell_type": "code",
   "execution_count": 23,
   "metadata": {},
   "outputs": [
    {
     "name": "stdout",
     "output_type": "stream",
     "text": [
      "{'country': 'pakistan', 'population': '20 million', 'fact': 'city of lights'}\n",
      "{'country': 'pakistan', 'population': '50 lacs', 'fact': 'small london'}\n",
      "{'country': 'pakistan', 'population': '20 lacs', 'fact': 'charm'}\n"
     ]
    }
   ],
   "source": [
    "print(cities['karachi'])\n",
    "print(cities['Quetta'])\n",
    "print(cities['Islamabad'])"
   ]
  },
  {
   "cell_type": "markdown",
   "metadata": {},
   "source": [
    "# Q3"
   ]
  },
  {
   "cell_type": "code",
   "execution_count": 26,
   "metadata": {},
   "outputs": [
    {
     "name": "stdout",
     "output_type": "stream",
     "text": [
      "enter your age  12\n",
      "movie ticket= 10$\n"
     ]
    }
   ],
   "source": [
    "x=int(input('enter your age  '))\n",
    "if x<=3:\n",
    "    print(\"movie ticket= 0$\")\n",
    "elif x<=12:\n",
    "    print(\"movie ticket= 10$\")\n",
    "else:\n",
    "    print('movie ticket= 15$')"
   ]
  },
  {
   "cell_type": "markdown",
   "metadata": {},
   "source": [
    "# Q4"
   ]
  },
  {
   "cell_type": "code",
   "execution_count": 27,
   "metadata": {},
   "outputs": [
    {
     "name": "stdout",
     "output_type": "stream",
     "text": [
      "my favorite book is  AI makes sense\n"
     ]
    }
   ],
   "source": [
    "def favorite_book(a):\n",
    "    print('my favorite book is ',a)\n",
    "    \n",
    "favorite_book(\"AI makes sense\")"
   ]
  },
  {
   "cell_type": "markdown",
   "metadata": {},
   "source": [
    "# Q5"
   ]
  },
  {
   "cell_type": "code",
   "execution_count": 28,
   "metadata": {},
   "outputs": [
    {
     "name": "stdout",
     "output_type": "stream",
     "text": [
      "Please enter your guess: 20\n",
      "Your guess is too low\n",
      "Please enter your guess: 25\n",
      "Your guess is too low\n",
      "Please enter your guess: 28\n",
      "Your guess is too low\n",
      "Please enter your guess: 29\n",
      "Hit!\n"
     ]
    }
   ],
   "source": [
    "import random \n",
    "number = random.randrange(1, 30)\n",
    "for x in range(3):\n",
    "    guess = int(input(\"Please enter your guess: \"))\n",
    "\n",
    "    if guess == number:\n",
    "        print(\"You win\")\n",
    "        break\n",
    "    elif guess < number:\n",
    "        print(\"Your guess is too low\")\n",
    "    else:\n",
    "        print(\"Your guess is too high\")"
   ]
  },
  {
   "cell_type": "code",
   "execution_count": null,
   "metadata": {},
   "outputs": [],
   "source": []
  }
 ],
 "metadata": {
  "kernelspec": {
   "display_name": "Python 3",
   "language": "python",
   "name": "python3"
  },
  "language_info": {
   "codemirror_mode": {
    "name": "ipython",
    "version": 3
   },
   "file_extension": ".py",
   "mimetype": "text/x-python",
   "name": "python",
   "nbconvert_exporter": "python",
   "pygments_lexer": "ipython3",
   "version": "3.7.2"
  }
 },
 "nbformat": 4,
 "nbformat_minor": 2
}
